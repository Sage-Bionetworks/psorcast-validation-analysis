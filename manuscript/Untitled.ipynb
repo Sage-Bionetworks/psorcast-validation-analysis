{
 "cells": [
  {
   "cell_type": "code",
   "execution_count": 22,
   "metadata": {},
   "outputs": [
    {
     "name": "stdout",
     "output_type": "stream",
     "text": [
      "Welcome, Aryton Tediarjo!\n",
      "\n"
     ]
    },
    {
     "name": "stderr",
     "output_type": "stream",
     "text": [
      "INFO:synapseclient_default:Welcome, Aryton Tediarjo!\n",
      "\n",
      "INFO:__main__:Getting Synapse project id for Psorcast - Manuscript - Test\n",
      "INFO:__main__:Creating Synapse project Psorcast - Manuscript - Test, with template_path manuscript.yaml\n"
     ]
    },
    {
     "name": "stdout",
     "output_type": "stream",
     "text": [
      "\n",
      "Welcome, Aryton Tediarjo!\n",
      "\n"
     ]
    },
    {
     "name": "stderr",
     "output_type": "stream",
     "text": [
      "INFO:synapseclient_default:Welcome, Aryton Tediarjo!\n",
      "\n",
      "DEBUG:__main__:Project response: None\n",
      "INFO:__main__:Getting Synapse project id for Psorcast - Manuscript - Test\n"
     ]
    },
    {
     "name": "stdout",
     "output_type": "stream",
     "text": [
      "[{'name': 'Psorcast - Manuscript - Test', 'type': 'Project', 'acl': [{'principal_id': 3394042, 'access_type': ['READ', 'DOWNLOAD', 'UPDATE', 'CREATE', 'DELETE', 'CHANGE_SETTINGS', 'MODERATE', 'CHANGE_PERMISSIONS']}], 'children': [{'name': 'Figures', 'type': 'Folder', 'id': 'syn26844094'}, {'name': 'Data', 'type': 'Folder', 'id': 'syn26844095'}, {'name': 'Intermediate Files', 'type': 'Folder', 'id': 'syn26844096'}], 'id': 'syn26844093'}]\n"
     ]
    }
   ],
   "source": [
    "\"\"\"\n",
    "This script is used for copying stats wiki of a digital health study\n",
    "it will prompt user target id (which health summary to build dashboard on),\n",
    "and the desired synapseformation template,\n",
    "and the wiki id of the dashboard to copy\n",
    "\n",
    "Author: aryton.tediarjo@sagebase.org\n",
    "\"\"\"\n",
    "\"\"\"\n",
    "This script is used for copying stats wiki of a digital health study\n",
    "it will prompt user target id (which health summary to build dashboard on),\n",
    "and the desired synapseformation template,\n",
    "and the wiki id of the dashboard to copy\n",
    "\n",
    "Author: aryton.tediarjo@sagebase.org\n",
    "\"\"\"\n",
    "import sys\n",
    "import pandas as pd\n",
    "import numpy as np\n",
    "import logging\n",
    "import argparse\n",
    "from yaml import safe_load\n",
    "\n",
    "import synapseclient\n",
    "import synapseutils\n",
    "from synapseclient import File, EntityViewSchema, Column, EntityViewType\n",
    "from synapseformation import client as synapseformation_client\n",
    "\n",
    "TEMPLATE_PATH = \"manuscript.yaml\"\n",
    "\n",
    "syn = synapseclient.login()\n",
    "logging.basicConfig()\n",
    "logger = logging.getLogger(__name__)\n",
    "logger.setLevel(logging.DEBUG)\n",
    "\n",
    "\n",
    "def get_project_id(syn, project_name):\n",
    "    logger.info(f'Getting Synapse project id for {project_name}')\n",
    "    response = syn.findEntityId(project_name)\n",
    "    return \"\" if response is None else response\n",
    "\n",
    "\n",
    "def create_project(syn, template_path, project_name):\n",
    "\n",
    "    logger.info(\n",
    "        f'Creating Synapse project {project_name}, ' + f'with template_path {template_path}')\n",
    "    try:\n",
    "        response = synapseformation_client.create_synapse_resources(\n",
    "            template_path)\n",
    "        logger.debug(f'Project response: {response}')\n",
    "        if response is not None:\n",
    "            return response.get('id')\n",
    "    except Exception as e:\n",
    "        logger.error(e)\n",
    "        sys.exit(1)\n",
    "\n",
    "\n",
    "def create_file_view(project_id):\n",
    "    view = EntityViewSchema(\n",
    "        name=\"Psorcast Manuscript - File View\",\n",
    "        columns=[Column(name=\"task\",\n",
    "                        columnType=\"STRING\",\n",
    "                        maximumSize=10),\n",
    "                 Column(name=\"analysisType\",\n",
    "                        columnType=\"STRING\",\n",
    "                        maximumSize=30),\n",
    "                 Column(name=\"analysisSubtype\",\n",
    "                        columnType=\"STRING\"),\n",
    "                 Column(name=\"pipelineStep\",\n",
    "                        columnType=\"STRING\",\n",
    "                        maximumSize=22),\n",
    "                 Column(name=\"consortium\",\n",
    "                        columnType=\"STRING\",\n",
    "                        maximumSize=10),\n",
    "                 Column(name=\"study\",\n",
    "                        columnType=\"STRING\"),\n",
    "                 Column(name=\"studyOrProject\",\n",
    "                        columnType=\"STRING\"),\n",
    "                 Column(name=\"sensorType\",\n",
    "                        columnType=\"STRING_LIST\",\n",
    "                        maximumSize=20),\n",
    "                 Column(name=\"deviceType\",\n",
    "                        columnType=\"STRING_LIST\",\n",
    "                        maximumSize=10),\n",
    "                 Column(name=\"devicePlatform\",\n",
    "                        columnType=\"STRING_LIST\",\n",
    "                        maximumSize=20),\n",
    "                 Column(name=\"dataCollectionMethod\",\n",
    "                        columnType=\"STRING_LIST\",\n",
    "                        maximumSize=15),\n",
    "                 Column(name=\"deviceLocation\",\n",
    "                        columnType=\"STRING_LIST\",\n",
    "                        maximumSize=15),\n",
    "                 Column(name=\"diagnosis\",\n",
    "                        columnType=\"STRING_LIST\",\n",
    "                        maximumSize=20),\n",
    "                 Column(name=\"reportedOutcome\",\n",
    "                        columnType=\"STRING_LIST\",\n",
    "                        maximumSize=20),\n",
    "                 Column(name=\"digitalAssessmentCategory\",\n",
    "                        columnType=\"STRING_LIST\",\n",
    "                        maximumSize=15),\n",
    "                 Column(name=\"digitalAssessmentDetails\",\n",
    "                        columnType=\"STRING_LIST\",\n",
    "                        maximumSize=10),\n",
    "                 Column(name=\"dataType\",\n",
    "                        columnType=\"STRING\",\n",
    "                        maximumSize=15),\n",
    "                 Column(name=\"dataSubtype\",\n",
    "                        columnType=\"STRING\",\n",
    "                        maximumSize=15),\n",
    "                 Column(name=\"dhPortalIndex\",\n",
    "                        columnType=\"BOOLEAN\"),\n",
    "                 Column(name=\"dataDescriptionLocation\",\n",
    "                        columnType=\"STRING\",\n",
    "                        maximumSize=30),\n",
    "                 Column(name=\"dataAccessInstructions\",\n",
    "                        columnType=\"STRING\",\n",
    "                        maximumSize=30)],\n",
    "        parent=project_id,\n",
    "        scopes=project_id,\n",
    "        includeEntityTypes=[EntityViewType.FILE, EntityViewType.FOLDER],\n",
    "        addDefaultViewColumns=True)\n",
    "    view = syn.store(view)\n",
    "\n",
    "\n",
    "def main():\n",
    "    # get argument\n",
    "    template_path = TEMPLATE_PATH\n",
    "\n",
    "    # get data\n",
    "    with open(template_path, 'r') as f:\n",
    "        yaml_data = pd.json_normalize(safe_load(f))\n",
    "\n",
    "    project_name = yaml_data[\"name\"].iloc[0]\n",
    "\n",
    "    # get project_id\n",
    "    project_id = get_project_id(syn, project_name)\n",
    "    print(project_id)\n",
    "\n",
    "    # if there's a project id, assume the project is already connected to synapse\n",
    "    connected_to_synapse = True if project_id else False\n",
    "\n",
    "    # if no project id is available, create a new project\n",
    "    if project_id == '':\n",
    "        create_project(syn, template_path, project_name)\n",
    "        project_id = get_project_id(syn, project_name)\n",
    "\n",
    "    create_file_view(project_id)\n",
    "\n",
    "\n",
    "\n",
    "if __name__ == \"__main__\":\n",
    "    main()\n"
   ]
  },
  {
   "cell_type": "code",
   "execution_count": 20,
   "metadata": {},
   "outputs": [],
   "source": []
  },
  {
   "cell_type": "code",
   "execution_count": 21,
   "metadata": {},
   "outputs": [],
   "source": [
    "create_file_view(\"syn26840742\")"
   ]
  },
  {
   "cell_type": "code",
   "execution_count": 5,
   "metadata": {},
   "outputs": [
    {
     "name": "stderr",
     "output_type": "stream",
     "text": [
      "INFO:__main__:Getting Synapse project id for Psorcast Manuscript - Public Release\n"
     ]
    },
    {
     "name": "stdout",
     "output_type": "stream",
     "text": [
      "\n"
     ]
    }
   ],
   "source": [
    "# get argument\n",
    "template_path = TEMPLATE_PATH\n",
    "\n",
    "# get data\n",
    "with open(template_path, 'r') as f:\n",
    "    yaml_data = pd.json_normalize(safe_load(f))\n",
    "\n",
    "project_name = yaml_data[\"name\"].iloc[0]\n",
    "\n",
    "# get project_id\n",
    "project_id = get_project_id(syn, project_name)\n",
    "print(project_id)"
   ]
  },
  {
   "cell_type": "code",
   "execution_count": 6,
   "metadata": {},
   "outputs": [
    {
     "data": {
      "text/plain": [
       "''"
      ]
     },
     "execution_count": 6,
     "metadata": {},
     "output_type": "execute_result"
    }
   ],
   "source": [
    "project_id"
   ]
  },
  {
   "cell_type": "code",
   "execution_count": null,
   "metadata": {},
   "outputs": [],
   "source": [
    "synapseformation."
   ]
  }
 ],
 "metadata": {
  "kernelspec": {
   "display_name": "py_environment",
   "language": "python",
   "name": "py_environment"
  },
  "language_info": {
   "codemirror_mode": {
    "name": "ipython",
    "version": 3
   },
   "file_extension": ".py",
   "mimetype": "text/x-python",
   "name": "python",
   "nbconvert_exporter": "python",
   "pygments_lexer": "ipython3",
   "version": "3.8.2"
  }
 },
 "nbformat": 4,
 "nbformat_minor": 4
}
